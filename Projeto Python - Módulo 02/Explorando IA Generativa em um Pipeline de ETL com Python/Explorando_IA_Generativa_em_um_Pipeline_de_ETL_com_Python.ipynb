{
  "cells": [
    {
      "cell_type": "markdown",
      "metadata": {
        "id": "view-in-github",
        "colab_type": "text"
      },
      "source": [
        "<a href=\"https://colab.research.google.com/github/KleyssonOv/Projects/blob/main/Projeto%20Python%20-%20M%C3%B3dulo%2002/Explorando%20IA%20Generativa%20em%20um%20Pipeline%20de%20ETL%20com%20Python/Explorando_IA_Generativa_em_um_Pipeline_de_ETL_com_Python.ipynb\" target=\"_parent\"><img src=\"https://colab.research.google.com/assets/colab-badge.svg\" alt=\"Open In Colab\"/></a>"
      ]
    },
    {
      "cell_type": "markdown",
      "source": [
        "## Explorando IA Generativa em um Pipeline de ETL com Python\n"
      ],
      "metadata": {
        "id": "bSowJO9W6koj"
      }
    },
    {
      "cell_type": "code",
      "execution_count": null,
      "metadata": {
        "id": "2dl00noy6fJs"
      },
      "outputs": [],
      "source": [
        "  sdw2023_api_url = 'https://sdw-2023-prd.up.railway.app'"
      ]
    },
    {
      "cell_type": "code",
      "execution_count": null,
      "metadata": {
        "colab": {
          "base_uri": "https://localhost:8080/"
        },
        "id": "HO30tRk76fJu",
        "outputId": "17cba4fd-a449-47ba-eab2-59d088074318"
      },
      "outputs": [
        {
          "output_type": "stream",
          "name": "stdout",
          "text": [
            "[3, 8, 12]\n"
          ]
        }
      ],
      "source": [
        "import pandas as pd\n",
        "\n",
        "df = pd.read_csv(\"SDW2023.csv\")\n",
        "user_ids = df['UserID'].tolist()\n",
        "print(user_ids)"
      ]
    },
    {
      "cell_type": "code",
      "execution_count": null,
      "metadata": {
        "colab": {
          "base_uri": "https://localhost:8080/"
        },
        "id": "wThko1SD6fJv",
        "outputId": "a8d5c185-b517-4d03-b80c-6c57194c6a18"
      },
      "outputs": [
        {
          "output_type": "stream",
          "name": "stdout",
          "text": [
            "[]\n"
          ]
        }
      ],
      "source": [
        "import requests\n",
        "import json\n",
        "\n",
        "def get_user(id):\n",
        "    response = requests.get(f'{sdw2023_api_url}/users/{id}')\n",
        "    return response.json() if response.status_code == 200 else None\n",
        "\n",
        "users = [user for id in user_ids if (user := get_user(id)) is not None]\n",
        "print(json.dumps(users, indent=2))"
      ]
    },
    {
      "cell_type": "code",
      "execution_count": null,
      "metadata": {
        "id": "WNePdqgx6fJw"
      },
      "outputs": [],
      "source": [
        "# Para gerar uma API Key:\n",
        "# Crie uma conta na OpenAI\n",
        "# Acesse a seção \"API Keys\"\n",
        "# Clique em \"Create API Key\"\n",
        "\n",
        "# Link direto: https://platform.openai.com/account/api-keys\n",
        "\n",
        "openai_api_key =  # Chave do link"
      ]
    },
    {
      "cell_type": "code",
      "source": [
        "# Caso não esteja instalado o api\n",
        "!pip install openai"
      ],
      "metadata": {
        "id": "bMcqR3QC9Y9C"
      },
      "execution_count": null,
      "outputs": []
    },
    {
      "cell_type": "code",
      "execution_count": null,
      "metadata": {
        "id": "8-5mk7uV6fJw"
      },
      "outputs": [],
      "source": [
        "import openai\n",
        "\n",
        "openai.api_key = openai_api_key\n",
        "\n",
        "def generate_ai_news(user):\n",
        "  completion = openai.ChatCompletion.create(\n",
        "    model=\"gpt-3.5-turbo\",\n",
        "    messages=[\n",
        "      {\n",
        "          \"role\": \"system\",\n",
        "          \"content\": \"Você é um especialista em markting bancário.\"\n",
        "      },\n",
        "      {\n",
        "          \"role\": \"user\",\n",
        "          \"content\": f\"Crie uma mensagem lembrando {user['name']} sobre a importância de quitar as dividas, sempre citando os nomes. (máximo de 100 caracteres)\"\n",
        "      }\n",
        "    ]\n",
        "  )\n",
        "  return completion.choices[0].message.content.strip('\\\"')\n",
        "\n",
        "for user in users:\n",
        "  news = generate_ai_news(user)\n",
        "  print(news)\n",
        "  user['news'].append({\n",
        "      \"icon\": \"https://digitalinnovationone.github.io/santander-dev-week-2023-api/icons/credit.svg\",\n",
        "      \"description\": news\n",
        "  })\n"
      ]
    },
    {
      "cell_type": "code",
      "execution_count": null,
      "metadata": {
        "id": "ol3OAwKZ6fJx"
      },
      "outputs": [],
      "source": [
        "def update_user(user):\n",
        "    response = requests.put(f\"{sdw2023_api_url}/users/{user['id']}\", json=user)\n",
        "    return True if response.status_code == 200 else False\n",
        "\n",
        "for user in users:\n",
        "    success = update_user(user)\n",
        "    print(f\"User {user['name']} updated? {success}!\")"
      ]
    }
  ],
  "metadata": {
    "kernelspec": {
      "display_name": "Python 3",
      "language": "python",
      "name": "python3"
    },
    "language_info": {
      "codemirror_mode": {
        "name": "ipython",
        "version": 3
      },
      "file_extension": ".py",
      "mimetype": "text/x-python",
      "name": "python",
      "nbconvert_exporter": "python",
      "pygments_lexer": "ipython3",
      "version": "3.11.5"
    },
    "orig_nbformat": 4,
    "colab": {
      "provenance": [],
      "include_colab_link": true
    }
  },
  "nbformat": 4,
  "nbformat_minor": 0
}